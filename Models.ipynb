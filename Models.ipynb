{
 "cells": [
  {
   "cell_type": "code",
   "execution_count": 2,
   "metadata": {
    "collapsed": false
   },
   "outputs": [],
   "source": [
    "using DataFrames\n",
    "using GLM"
   ]
  },
  {
   "cell_type": "code",
   "execution_count": 3,
   "metadata": {
    "collapsed": true
   },
   "outputs": [
    {
     "data": {
      "text/html": [
       "<table class=\"data-frame\"><tr><th></th><th>Id</th><th>Store</th><th>DayOfWeek</th><th>Date</th><th>Open</th><th>Promo</th><th>StateHoliday</th><th>SchoolHoliday</th></tr><tr><th>1</th><td>1</td><td>1</td><td>4</td><td>2015-09-17</td><td>1</td><td>1</td><td>0</td><td>0</td></tr><tr><th>2</th><td>2</td><td>3</td><td>4</td><td>2015-09-17</td><td>1</td><td>1</td><td>0</td><td>0</td></tr><tr><th>3</th><td>3</td><td>7</td><td>4</td><td>2015-09-17</td><td>1</td><td>1</td><td>0</td><td>0</td></tr><tr><th>4</th><td>4</td><td>8</td><td>4</td><td>2015-09-17</td><td>1</td><td>1</td><td>0</td><td>0</td></tr><tr><th>5</th><td>5</td><td>9</td><td>4</td><td>2015-09-17</td><td>1</td><td>1</td><td>0</td><td>0</td></tr><tr><th>6</th><td>6</td><td>10</td><td>4</td><td>2015-09-17</td><td>1</td><td>1</td><td>0</td><td>0</td></tr><tr><th>7</th><td>7</td><td>11</td><td>4</td><td>2015-09-17</td><td>1</td><td>1</td><td>0</td><td>0</td></tr><tr><th>8</th><td>8</td><td>12</td><td>4</td><td>2015-09-17</td><td>1</td><td>1</td><td>0</td><td>0</td></tr><tr><th>9</th><td>9</td><td>13</td><td>4</td><td>2015-09-17</td><td>1</td><td>1</td><td>0</td><td>0</td></tr><tr><th>10</th><td>10</td><td>14</td><td>4</td><td>2015-09-17</td><td>1</td><td>1</td><td>0</td><td>0</td></tr><tr><th>11</th><td>11</td><td>15</td><td>4</td><td>2015-09-17</td><td>1</td><td>1</td><td>0</td><td>0</td></tr><tr><th>12</th><td>12</td><td>16</td><td>4</td><td>2015-09-17</td><td>1</td><td>1</td><td>0</td><td>0</td></tr><tr><th>13</th><td>13</td><td>19</td><td>4</td><td>2015-09-17</td><td>1</td><td>1</td><td>0</td><td>0</td></tr><tr><th>14</th><td>14</td><td>20</td><td>4</td><td>2015-09-17</td><td>1</td><td>1</td><td>0</td><td>0</td></tr><tr><th>15</th><td>15</td><td>21</td><td>4</td><td>2015-09-17</td><td>1</td><td>1</td><td>0</td><td>0</td></tr><tr><th>16</th><td>16</td><td>22</td><td>4</td><td>2015-09-17</td><td>1</td><td>1</td><td>0</td><td>0</td></tr><tr><th>17</th><td>17</td><td>23</td><td>4</td><td>2015-09-17</td><td>1</td><td>1</td><td>0</td><td>0</td></tr><tr><th>18</th><td>18</td><td>24</td><td>4</td><td>2015-09-17</td><td>1</td><td>1</td><td>0</td><td>0</td></tr><tr><th>19</th><td>19</td><td>25</td><td>4</td><td>2015-09-17</td><td>1</td><td>1</td><td>0</td><td>0</td></tr><tr><th>20</th><td>20</td><td>27</td><td>4</td><td>2015-09-17</td><td>1</td><td>1</td><td>0</td><td>0</td></tr><tr><th>21</th><td>21</td><td>29</td><td>4</td><td>2015-09-17</td><td>1</td><td>1</td><td>0</td><td>0</td></tr><tr><th>22</th><td>22</td><td>30</td><td>4</td><td>2015-09-17</td><td>1</td><td>1</td><td>0</td><td>0</td></tr><tr><th>23</th><td>23</td><td>31</td><td>4</td><td>2015-09-17</td><td>1</td><td>1</td><td>0</td><td>0</td></tr><tr><th>24</th><td>24</td><td>32</td><td>4</td><td>2015-09-17</td><td>1</td><td>1</td><td>0</td><td>0</td></tr><tr><th>25</th><td>25</td><td>33</td><td>4</td><td>2015-09-17</td><td>1</td><td>1</td><td>0</td><td>0</td></tr><tr><th>26</th><td>26</td><td>35</td><td>4</td><td>2015-09-17</td><td>1</td><td>1</td><td>0</td><td>0</td></tr><tr><th>27</th><td>27</td><td>36</td><td>4</td><td>2015-09-17</td><td>1</td><td>1</td><td>0</td><td>0</td></tr><tr><th>28</th><td>28</td><td>38</td><td>4</td><td>2015-09-17</td><td>1</td><td>1</td><td>0</td><td>0</td></tr><tr><th>29</th><td>29</td><td>39</td><td>4</td><td>2015-09-17</td><td>1</td><td>1</td><td>0</td><td>0</td></tr><tr><th>30</th><td>30</td><td>40</td><td>4</td><td>2015-09-17</td><td>1</td><td>1</td><td>0</td><td>0</td></tr><tr><th>&vellip;</th><td>&vellip;</td><td>&vellip;</td><td>&vellip;</td><td>&vellip;</td><td>&vellip;</td><td>&vellip;</td><td>&vellip;</td><td>&vellip;</td></tr></table>"
      ],
      "text/plain": [
       "41088x8 DataFrames.DataFrame\n",
       "| Row   | Id    | Store | DayOfWeek | Date         | Open | Promo |\n",
       "|-------|-------|-------|-----------|--------------|------|-------|\n",
       "| 1     | 1     | 1     | 4         | \"2015-09-17\" | 1    | 1     |\n",
       "| 2     | 2     | 3     | 4         | \"2015-09-17\" | 1    | 1     |\n",
       "| 3     | 3     | 7     | 4         | \"2015-09-17\" | 1    | 1     |\n",
       "| 4     | 4     | 8     | 4         | \"2015-09-17\" | 1    | 1     |\n",
       "| 5     | 5     | 9     | 4         | \"2015-09-17\" | 1    | 1     |\n",
       "| 6     | 6     | 10    | 4         | \"2015-09-17\" | 1    | 1     |\n",
       "| 7     | 7     | 11    | 4         | \"2015-09-17\" | 1    | 1     |\n",
       "| 8     | 8     | 12    | 4         | \"2015-09-17\" | 1    | 1     |\n",
       "| 9     | 9     | 13    | 4         | \"2015-09-17\" | 1    | 1     |\n",
       "| 10    | 10    | 14    | 4         | \"2015-09-17\" | 1    | 1     |\n",
       "| 11    | 11    | 15    | 4         | \"2015-09-17\" | 1    | 1     |\n",
       "⋮\n",
       "| 41077 | 41077 | 1102  | 6         | \"2015-08-01\" | 1    | 0     |\n",
       "| 41078 | 41078 | 1103  | 6         | \"2015-08-01\" | 1    | 0     |\n",
       "| 41079 | 41079 | 1104  | 6         | \"2015-08-01\" | 1    | 0     |\n",
       "| 41080 | 41080 | 1105  | 6         | \"2015-08-01\" | 1    | 0     |\n",
       "| 41081 | 41081 | 1106  | 6         | \"2015-08-01\" | 1    | 0     |\n",
       "| 41082 | 41082 | 1107  | 6         | \"2015-08-01\" | 1    | 0     |\n",
       "| 41083 | 41083 | 1109  | 6         | \"2015-08-01\" | 1    | 0     |\n",
       "| 41084 | 41084 | 1111  | 6         | \"2015-08-01\" | 1    | 0     |\n",
       "| 41085 | 41085 | 1112  | 6         | \"2015-08-01\" | 1    | 0     |\n",
       "| 41086 | 41086 | 1113  | 6         | \"2015-08-01\" | 1    | 0     |\n",
       "| 41087 | 41087 | 1114  | 6         | \"2015-08-01\" | 1    | 0     |\n",
       "| 41088 | 41088 | 1115  | 6         | \"2015-08-01\" | 1    | 0     |\n",
       "\n",
       "| Row   | StateHoliday | SchoolHoliday |\n",
       "|-------|--------------|---------------|\n",
       "| 1     | \"0\"          | 0             |\n",
       "| 2     | \"0\"          | 0             |\n",
       "| 3     | \"0\"          | 0             |\n",
       "| 4     | \"0\"          | 0             |\n",
       "| 5     | \"0\"          | 0             |\n",
       "| 6     | \"0\"          | 0             |\n",
       "| 7     | \"0\"          | 0             |\n",
       "| 8     | \"0\"          | 0             |\n",
       "| 9     | \"0\"          | 0             |\n",
       "| 10    | \"0\"          | 0             |\n",
       "| 11    | \"0\"          | 0             |\n",
       "⋮\n",
       "| 41077 | \"0\"          | 0             |\n",
       "| 41078 | \"0\"          | 1             |\n",
       "| 41079 | \"0\"          | 0             |\n",
       "| 41080 | \"0\"          | 0             |\n",
       "| 41081 | \"0\"          | 0             |\n",
       "| 41082 | \"0\"          | 0             |\n",
       "| 41083 | \"0\"          | 0             |\n",
       "| 41084 | \"0\"          | 0             |\n",
       "| 41085 | \"0\"          | 0             |\n",
       "| 41086 | \"0\"          | 0             |\n",
       "| 41087 | \"0\"          | 0             |\n",
       "| 41088 | \"0\"          | 1             |"
      ]
     },
     "execution_count": 3,
     "metadata": {},
     "output_type": "execute_result"
    }
   ],
   "source": [
    "train=readtable(\"./train.csv\")\n",
    "store=readtable(\"./store.csv\")\n",
    "test=readtable(\"./test.csv\")"
   ]
  },
  {
   "cell_type": "code",
   "execution_count": null,
   "metadata": {
    "collapsed": true
   },
   "outputs": [],
   "source": [
    "function center(df, colName)\n",
    "    return df[colName] .- mean(train[colName])\n",
    "end\n",
    "# train[:Customers] = center(train, :Customers)\n",
    "# test[:Customers] = center(test, :Customers)"
   ]
  },
  {
   "cell_type": "code",
   "execution_count": 4,
   "metadata": {
    "collapsed": true
   },
   "outputs": [
    {
     "data": {
      "text/plain": [
       "41088-element DataArrays.DataArray{Bool,1}:\n",
       " true\n",
       " true\n",
       " true\n",
       " true\n",
       " true\n",
       " true\n",
       " true\n",
       " true\n",
       " true\n",
       " true\n",
       " true\n",
       " true\n",
       " true\n",
       "    ⋮\n",
       " true\n",
       " true\n",
       " true\n",
       " true\n",
       " true\n",
       " true\n",
       " true\n",
       " true\n",
       " true\n",
       " true\n",
       " true\n",
       " true"
      ]
     },
     "execution_count": 4,
     "metadata": {},
     "output_type": "execute_result"
    }
   ],
   "source": [
    "function stringToBool(holidayCol)\n",
    "    data = DataArray(Bool, length(holidayCol))\n",
    "    for i=1:size(holidayCol,1)\n",
    "        data[i] = (\"0\" != holidayCol[i])\n",
    "    end\n",
    "    return data\n",
    "end\n",
    "train[:StateHoliday] = stringToBool(train[:StateHoliday])\n",
    "test[:StateHoliday] = stringToBool(test[:StateHoliday])\n",
    "train[:SchoolHoliday] = convert(DataArray{Bool,1}, train[:SchoolHoliday])\n",
    "test[:SchoolHoliday] = convert(DataArray{Bool,1}, test[:SchoolHoliday])\n",
    "train[:Open] = convert(DataArray{Bool,1}, train[:Open])\n",
    "test[:Open] = convert(DataArray{Bool,1}, test[:Open])"
   ]
  },
  {
   "cell_type": "markdown",
   "metadata": {},
   "source": [
    "# Poisson Regression"
   ]
  },
  {
   "cell_type": "code",
   "execution_count": null,
   "metadata": {
    "collapsed": true
   },
   "outputs": [],
   "source": [
    "fitByStoreOpen = by(\n",
    "    train[train[:Open] .== true, :],\n",
    "    :Store,\n",
    "    df -> glm(Sales~DayOfWeek+Promo+SchoolHoliday, df, Poisson())\n",
    ")\n",
    "fitByStore = by(\n",
    "    train,\n",
    "    :Store,\n",
    "    df -> glm(Sales~DayOfWeek+Promo+SchoolHoliday, df, Poisson())\n",
    ")"
   ]
  },
  {
   "cell_type": "code",
   "execution_count": null,
   "metadata": {
    "collapsed": false
   },
   "outputs": [],
   "source": [
    "function makePreds(df)\n",
    "    preds = DataArray(Float64, size(df,1))\n",
    "    preds[!isna(df[:Open]) & (df[:Open] .== false)] = 0\n",
    "    for i=unique(df[:Store])\n",
    "        modelKnownOpen = fitByStoreOpen[fitByStoreOpen[:Store] .== i, :x1][1]\n",
    "        modelUnknownOpen = fitByStore[fitByStore[:Store] .== i, :x1][1]\n",
    "        mask = !isna(df[:Open]) & (df[:Open] .== true) & (df[:Store] .== i)\n",
    "        preds[mask, :] = predict(modelKnownOpen, df[mask, :])\n",
    "        mask = isna(df[:Open]) & (df[:Store] .== i)\n",
    "        preds[mask, :] = predict(modelUnknownOpen, df[mask, :])\n",
    "    end\n",
    "    return preds\n",
    "end"
   ]
  },
  {
   "cell_type": "code",
   "execution_count": null,
   "metadata": {
    "collapsed": true
   },
   "outputs": [],
   "source": [
    "trainPreds = makePreds(train)\n",
    "mean(abs(makePreds(train) - preds))"
   ]
  },
  {
   "cell_type": "code",
   "execution_count": null,
   "metadata": {
    "collapsed": false
   },
   "outputs": [],
   "source": [
    "testPreds = makePreds(test)"
   ]
  },
  {
   "cell_type": "code",
   "execution_count": null,
   "metadata": {
    "collapsed": false
   },
   "outputs": [],
   "source": [
    "writetable(\"output.csv\", DataFrame(Id=1:length(testPreds), Sales=testPreds))"
   ]
  },
  {
   "cell_type": "markdown",
   "metadata": {},
   "source": [
    "# Random Forest Regression"
   ]
  },
  {
   "cell_type": "code",
   "execution_count": 5,
   "metadata": {
    "collapsed": false
   },
   "outputs": [],
   "source": [
    "using DecisionTree"
   ]
  },
  {
   "cell_type": "code",
   "execution_count": 7,
   "metadata": {
    "collapsed": false
   },
   "outputs": [
    {
     "data": {
      "text/plain": [
       "1017209x5 Array{Float64,2}:\n",
       "    1.0  5.0  1.0  1.0  0.0\n",
       "    2.0  5.0  1.0  1.0  0.0\n",
       "    3.0  5.0  1.0  1.0  0.0\n",
       "    4.0  5.0  1.0  1.0  0.0\n",
       "    5.0  5.0  1.0  1.0  0.0\n",
       "    6.0  5.0  1.0  1.0  0.0\n",
       "    7.0  5.0  1.0  1.0  0.0\n",
       "    8.0  5.0  1.0  1.0  0.0\n",
       "    9.0  5.0  1.0  1.0  0.0\n",
       "   10.0  5.0  1.0  1.0  0.0\n",
       "   11.0  5.0  1.0  1.0  0.0\n",
       "   12.0  5.0  1.0  1.0  0.0\n",
       "   13.0  5.0  1.0  0.0  0.0\n",
       "    ⋮                      \n",
       " 1104.0  2.0  0.0  1.0  1.0\n",
       " 1105.0  2.0  0.0  1.0  1.0\n",
       " 1106.0  2.0  0.0  1.0  1.0\n",
       " 1107.0  2.0  0.0  1.0  1.0\n",
       " 1108.0  2.0  0.0  1.0  1.0\n",
       " 1109.0  2.0  0.0  1.0  1.0\n",
       " 1110.0  2.0  0.0  1.0  1.0\n",
       " 1111.0  2.0  0.0  1.0  1.0\n",
       " 1112.0  2.0  0.0  1.0  1.0\n",
       " 1113.0  2.0  0.0  1.0  1.0\n",
       " 1114.0  2.0  0.0  1.0  1.0\n",
       " 1115.0  2.0  0.0  1.0  1.0"
      ]
     },
     "execution_count": 7,
     "metadata": {},
     "output_type": "execute_result"
    }
   ],
   "source": [
    "labels=convert(Array{Float64}, train[:Sales])\n",
    "features=convert(Array{Float64}, train[[:Store, :DayOfWeek, :Promo, :SchoolHoliday, :StateHoliday]])"
   ]
  },
  {
   "cell_type": "code",
   "execution_count": 37,
   "metadata": {
    "collapsed": false
   },
   "outputs": [
    {
     "data": {
      "text/plain": [
       "Ensemble of Decision Trees\n",
       "Trees:      50\n",
       "Avg Leaves: 185.42\n",
       "Avg Depth:  16.48"
      ]
     },
     "execution_count": 37,
     "metadata": {},
     "output_type": "execute_result"
    }
   ],
   "source": [
    "model = build_forest(labels, features, 2, 50, 0.5)"
   ]
  },
  {
   "cell_type": "code",
   "execution_count": 41,
   "metadata": {
    "collapsed": false
   },
   "outputs": [
    {
     "data": {
      "text/plain": [
       "makePredsRf (generic function with 1 method)"
      ]
     },
     "execution_count": 41,
     "metadata": {},
     "output_type": "execute_result"
    }
   ],
   "source": [
    "function makePredsRf(df, model)\n",
    "    preds = DataArray(Float64, size(df,1))\n",
    "    closedAndNotNA = !isna(df[:Open]) & (df[:Open] .== false)\n",
    "    preds[closedAndNotNA] = 0\n",
    "    preds[!closedAndNotNA, :] = apply_forest(\n",
    "        model,\n",
    "        convert(\n",
    "            Array{Float64},\n",
    "            df[!closedAndNotNA, [:Store, :DayOfWeek, :Promo, :SchoolHoliday, :StateHoliday]]))\n",
    "    return preds\n",
    "end"
   ]
  },
  {
   "cell_type": "code",
   "execution_count": 42,
   "metadata": {
    "collapsed": false
   },
   "outputs": [
    {
     "data": {
      "text/plain": [
       "1666.9589104069817"
      ]
     },
     "execution_count": 42,
     "metadata": {},
     "output_type": "execute_result"
    }
   ],
   "source": [
    "trainPreds = makePredsRf(train, model)\n",
    "mean(abs(train[:Sales] - trainPreds))"
   ]
  },
  {
   "cell_type": "code",
   "execution_count": 43,
   "metadata": {
    "collapsed": false
   },
   "outputs": [],
   "source": [
    "testPreds = makePredsRf(test, model)\n",
    "writetable(\"output_rf.csv\", DataFrame(Id=test[:Id], Sales=testPreds))"
   ]
  },
  {
   "cell_type": "code",
   "execution_count": null,
   "metadata": {
    "collapsed": true
   },
   "outputs": [],
   "source": []
  }
 ],
 "metadata": {
  "kernelspec": {
   "display_name": "Julia 0.4.0",
   "language": "julia",
   "name": "julia-0.4"
  },
  "language_info": {
   "file_extension": ".jl",
   "mimetype": "application/julia",
   "name": "julia",
   "version": "0.4.0"
  }
 },
 "nbformat": 4,
 "nbformat_minor": 0
}
